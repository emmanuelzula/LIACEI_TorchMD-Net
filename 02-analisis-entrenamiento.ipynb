{
 "cells": [
  {
   "cell_type": "markdown",
   "id": "7f12e58b-2112-43b6-bf88-b8530fdda817",
   "metadata": {},
   "source": [
    "# Generación de inferencias"
   ]
  },
  {
   "cell_type": "markdown",
   "id": "da2c9f35-92db-4181-bad6-00d203337a98",
   "metadata": {},
   "source": [
    "Este notebook esta contruido de tal forma unicamente necesita las carpetas y archivos generados por el notebook anterior."
   ]
  },
  {
   "cell_type": "markdown",
   "id": "b8c1c067-d1aa-491c-9be2-dbd6c5b51e8d",
   "metadata": {},
   "source": [
    "Establecemos el nombre del archivo que contiene nuestros datos .data sin la extensión, esto para poder buscar el dataset y definir nombres de archivos."
   ]
  },
  {
   "cell_type": "code",
   "execution_count": null,
   "id": "bae221e8-1388-4711-8be2-ecd2050f5782",
   "metadata": {},
   "outputs": [],
   "source": [
    "dataset= \"input_bo222-200k-1173k\""
   ]
  },
  {
   "cell_type": "markdown",
   "id": "ec1ef455-267e-4cd1-9ac0-52373abf25f6",
   "metadata": {},
   "source": [
    "Importamos los modulos necesarios"
   ]
  },
  {
   "cell_type": "code",
   "execution_count": null,
   "id": "eead8383-f233-4cf8-895a-dba4e852fbe7",
   "metadata": {},
   "outputs": [],
   "source": [
    "import numpy as np\n",
    "import os\n",
    "import shutil\n",
    "import torch\n",
    "import pandas as pd\n",
    "import matplotlib.pyplot as plt\n",
    "import h5py\n",
    "import re\n",
    "from numpy import linalg as la\n",
    "from mpl_toolkits.mplot3d import Axes3D\n",
    "from scipy.stats import gaussian_kde"
   ]
  },
  {
   "cell_type": "markdown",
   "id": "718e90cf-2d35-4515-8aca-d4f9da09a620",
   "metadata": {},
   "source": [
    "Creamos las carpetas que necesitamos, de existir las eliminamos y las volvemos a crear."
   ]
  },
  {
   "cell_type": "code",
   "execution_count": null,
   "id": "5af84d47-46c3-4725-9395-f48b50eb9968",
   "metadata": {},
   "outputs": [],
   "source": [
    "carpetas = [\"input-graficas\", \"output-graficas\", \"inferencias\",\"temp\"]\n",
    "carpeta_principal = \"graficas-inferencias\"\n",
    "\n",
    "def crear_carpeta(carpeta):\n",
    "    ruta_carpeta = os.path.join(carpeta_principal, carpeta)\n",
    "    os.makedirs(ruta_carpeta)\n",
    "    print(f\"La carpeta '{ruta_carpeta}/' ha sido creada.\")\n",
    "\n",
    "# Verificar y eliminar la carpeta principal si existe\n",
    "if os.path.exists(carpeta_principal):\n",
    "    shutil.rmtree(carpeta_principal)\n",
    "    print(f\"La carpeta '{carpeta_principal}/' existía y ha sido eliminada junto con su contenido.\")\n",
    "\n",
    "# Crear la carpeta principal de nuevo\n",
    "os.makedirs(carpeta_principal)\n",
    "print(f\"La carpeta '{carpeta_principal}/' ha sido creada de nuevo.\")\n",
    "\n",
    "# Crear las carpetas dentro de la carpeta principal\n",
    "for carpeta in carpetas:\n",
    "    crear_carpeta(carpeta)"
   ]
  },
  {
   "cell_type": "markdown",
   "id": "03bc7c34-2b34-4980-bca5-4bb9f1ec5af7",
   "metadata": {},
   "source": [
    "Cargamos los archivos que utilizaremos: modelo entrenado, dataset utilizado, indices de los conjutos de datos (train, validation, test)"
   ]
  },
  {
   "cell_type": "code",
   "execution_count": null,
   "id": "4312d7e5-b6ec-436f-94bc-3c9b69bd8313",
   "metadata": {},
   "outputs": [],
   "source": [
    "# Buscamos el modelo entrenado con el número de epocas mas alto\n",
    "nombre_max_epoch = max((f for f in os.listdir('output') if re.match(r'epoch=(\\d+)-val_loss', f)),\n",
    "                       key=lambda x: int(re.search(r'epoch=(\\d+)-val_loss', x).group(1)),\n",
    "                       default=None)\n",
    "\n",
    "# Ruta al modelo entrenado\n",
    "path_trained_model=f\"output/{nombre_max_epoch}\"\n",
    "\n",
    "# Cargamos el modelo entrenado\n",
    "from torchmdnet.models.model import load_model\n",
    "model= load_model(path_trained_model, derivative=True,device=\"cuda\")\n",
    "\n",
    "# Cargar archivo del dataset que utilizo torchmd-net\n",
    "dataset_h5 = h5py.File(f\"construccion-dataset/procesados/{dataset}-f.h5\", 'r')\n",
    "\n",
    "# Cargar archivo splits\n",
    "splits = np.load(\"output/splits.npz\")\n",
    "idx_test = np.sort(splits['idx_test'])"
   ]
  },
  {
   "cell_type": "markdown",
   "id": "183cf90b-7b03-40a9-9f84-f5897cd4e128",
   "metadata": {},
   "source": [
    "Definimos el dispositivo donde vamos a hacer las operaciones"
   ]
  },
  {
   "cell_type": "code",
   "execution_count": null,
   "id": "a1fe9501-d431-4c4e-a1db-bf8a0b244443",
   "metadata": {},
   "outputs": [],
   "source": [
    "device = torch.device(\"cuda:0\")"
   ]
  },
  {
   "cell_type": "markdown",
   "id": "cd3d7b3c-b11b-43c0-bb93-eca6703ba466",
   "metadata": {},
   "source": [
    "Seleccionamos el conjunto de datos test"
   ]
  },
  {
   "cell_type": "code",
   "execution_count": null,
   "id": "ac196d57-b242-428c-a008-f40aebbe39e2",
   "metadata": {},
   "outputs": [],
   "source": [
    "pos_test=dataset_h5[\"222_atoms\"]['pos'][idx_test]\n",
    "types_test=dataset_h5[\"222_atoms\"][\"types\"][idx_test]\n",
    "ref_energy_test=dataset_h5[\"222_atoms\"][\"energy\"][idx_test]\n",
    "ref_forces_test=dataset_h5[\"222_atoms\"][\"forces\"][idx_test]"
   ]
  },
  {
   "cell_type": "markdown",
   "id": "fcd1a274-aea0-4a6f-a465-8a9f8110378a",
   "metadata": {},
   "source": [
    "Convertimos nuestros datos en unos que puedan ser utilizados por el modelo de inferencias y los guardamos en donde vamos a hacer operaciones"
   ]
  },
  {
   "cell_type": "code",
   "execution_count": null,
   "id": "54106aa4-c2b6-4cfd-8445-0adce76bfbb8",
   "metadata": {},
   "outputs": [],
   "source": [
    "pos_sample = torch.tensor(pos_test, dtype=torch.float32, device=device)\n",
    "z_sample = torch.tensor(types_test, dtype=torch.long, device=device)"
   ]
  },
  {
   "cell_type": "markdown",
   "id": "52747e64-47cf-4f4d-924e-42e4d2cec764",
   "metadata": {},
   "source": [
    "Calculamos las ainferencias y las guardamos en archivos .data"
   ]
  },
  {
   "cell_type": "code",
   "execution_count": null,
   "id": "6b0a60f6-5445-4afa-8179-ac6fd94910da",
   "metadata": {},
   "outputs": [],
   "source": [
    "for sample in range(len(ref_energy_test)):\n",
    "    # Hacer la inferencia\n",
    "    n_energy_inferred, n_forces_inferred = model(z_sample[sample], pos_sample[sample])\n",
    "    \n",
    "    # Convertir los datos a cadenas\n",
    "    n_energy_str = str(n_energy_inferred.item())\n",
    "    n_forces_str = '\\n'.join([' '.join(map(str, fila)) for fila in n_forces_inferred.tolist()])\n",
    "    # Guardar los datos en archivos\n",
    "    with open(f'graficas-inferencias/temp/inf_energias_test.dat', 'a') as file_energy:\n",
    "        file_energy.write(n_energy_str+'\\n')\n",
    "\n",
    "    with open(f'graficas-inferencias/temp/inf_fuerzas_test.dat', 'a') as file_forces:\n",
    "        file_forces.write(n_forces_str+'\\n')"
   ]
  },
  {
   "cell_type": "markdown",
   "id": "53d1519c-f31b-45ab-bb5a-0ffe8308f6e2",
   "metadata": {},
   "source": [
    "Cargar las inferencias de los archivos .data en numpy arrays y redimensionarlos"
   ]
  },
  {
   "cell_type": "code",
   "execution_count": null,
   "id": "e439e2f9-f745-48c8-948b-714cb9c6360f",
   "metadata": {},
   "outputs": [],
   "source": [
    "# Cargar y remodelar los datos de energía de prueba\n",
    "inf_energy_test = np.loadtxt(\"graficas-inferencias/temp/inf_energias_test.dat\")\n",
    "inf_energy_test = np.reshape(inf_energy_test, len(ref_energy_test))\n",
    "\n",
    "# Cargar y remodelar los datos de fuerza de prueba\n",
    "inf_forces_test = np.loadtxt(\"graficas-inferencias/temp/inf_fuerzas_test.dat\")\n",
    "inf_forces_test = np.reshape(inf_forces_test, (len(ref_energy_test), len(types_test[0]), 3))"
   ]
  },
  {
   "cell_type": "markdown",
   "id": "00e9e7bf-ae92-4060-a4cf-2b4ccc8581df",
   "metadata": {},
   "source": [
    "Guardar inferencias en archivo .h5"
   ]
  },
  {
   "cell_type": "code",
   "execution_count": null,
   "id": "66c3ec11-d455-45b3-84d8-a096e6bf7517",
   "metadata": {},
   "outputs": [],
   "source": [
    "filename = f\"graficas-inferencias/inferencias/{dataset}-inferencias.h5\"\n",
    "\n",
    "f=h5py.File(filename, \"w\")\n",
    "\n",
    "group_name = \"test\"\n",
    "group = f.create_group(group_name)\n",
    "# Guardar datos en el grupo\n",
    "group.create_dataset(\"idx\", data=idx_test)\n",
    "group.create_dataset(\"energy_inf\", data=inf_energy_test)\n",
    "group.create_dataset(\"forces_inf\", data=inf_forces_test)\n",
    "group.create_dataset(\"energy_ref\", data=ref_energy_test)\n",
    "group.create_dataset(\"forces_ref\", data=ref_forces_test)\n",
    "group.create_dataset(\"pos\", data=pos_test)\n",
    "group.create_dataset(\"types\", data=types_test)\n",
    "f.close()"
   ]
  },
  {
   "cell_type": "code",
   "execution_count": null,
   "id": "40bf2837-8024-4858-9619-73e36041ee5e",
   "metadata": {},
   "outputs": [],
   "source": [
    "dataset_h5.close()"
   ]
  },
  {
   "cell_type": "markdown",
   "id": "e8d7fb83-c856-420d-9080-282420ba1beb",
   "metadata": {},
   "source": [
    "# Contraste archivo de entrenamiento .h5  y archivo de inferencias .h5"
   ]
  },
  {
   "cell_type": "markdown",
   "id": "a4692db9-bf6d-4721-9b5b-dc5854ad2681",
   "metadata": {},
   "source": [
    "Funciones a utilizar"
   ]
  },
  {
   "cell_type": "code",
   "execution_count": null,
   "id": "8e9023cb-e3be-4c68-98fc-fc48c39f3366",
   "metadata": {},
   "outputs": [],
   "source": [
    "# Funcion para intercambiar el elemento atomico por su numero atomico\n",
    "def periodic_table(input_elemento):\n",
    "    tabla_periodica = {\"H\": 1, \"O\": 8, \"Al\": 13}\n",
    "\n",
    "    if isinstance(input_elemento, str):\n",
    "        # Si se proporciona el símbolo del elemento\n",
    "        elemento = input_elemento.capitalize()\n",
    "        if elemento in tabla_periodica:\n",
    "            return tabla_periodica[elemento]\n",
    "        else:\n",
    "            return None\n",
    "    elif isinstance(input_elemento, int):\n",
    "        # Si se proporciona el número atómico\n",
    "        for simbolo, numero_atomico in tabla_periodica.items():\n",
    "            if numero_atomico == input_elemento:\n",
    "                return simbolo\n",
    "        # Si no se encuentra el número atómico en la tabla\n",
    "        return None\n",
    "    else:\n",
    "        # Si el tipo de entrada no es válido\n",
    "        return None\n",
    "\n",
    "def imprimir_muestra_h5(ruta_archivo_h5, grupo, datos, muestra):\n",
    "    archivo_h5=h5py.File(ruta_archivo_h5, \"r\")\n",
    "    \n",
    "    idx_test = archivo_h5[grupo][\"idx\"]\n",
    "    \n",
    "    if datos == \"ref\":\n",
    "        arrays_h5=[\"energy_ref\",\"types\",\"pos\",\"forces_ref\"]\n",
    "    if datos == \"inf\":\n",
    "        arrays_h5=[\"energy_inf\",\"types\",\"pos\",\"forces_inf\"]\n",
    "    \n",
    "    \n",
    "    muestra=idx_test[muestra]\n",
    "    grupo_actual = archivo_h5[grupo]\n",
    "    num_atoms_frame = len(grupo_actual[\"types\"][muestra])\n",
    "    \n",
    "    frame = f\"{num_atoms_frame}\\n\"\n",
    "    frame = frame + f\"MD_Step: {muestra} Total_energy = {grupo_actual[arrays_h5[0]][muestra]:.10f}\\n\"\n",
    "    for i in range(num_atoms_frame):\n",
    "    \n",
    "        line_type = periodic_table(int(grupo_actual[arrays_h5[1]][muestra][i]))\n",
    "        line_x = grupo_actual[arrays_h5[2]][muestra][i][0]\n",
    "        line_y = grupo_actual[arrays_h5[2]][muestra][i][1]\n",
    "        line_z = grupo_actual[arrays_h5[2]][muestra][i][2]\n",
    "        line_fx = grupo_actual[arrays_h5[3]][muestra][i][0]\n",
    "        line_fy = grupo_actual[arrays_h5[3]][muestra][i][1]\n",
    "        line_fz = grupo_actual[arrays_h5[3]][muestra][i][2]\n",
    "    \n",
    "        # Formatea la cadena con manejo de valores None\n",
    "        linea = \"{:>2}{:>20.10f}{:>20.10f}{:>20.10f}{:>20.10f}{:>20.10f}{:>20.10f}\".format(\n",
    "            line_type,\n",
    "            line_x, \n",
    "            line_y, \n",
    "            line_z,\n",
    "            line_fx, \n",
    "            line_fy, \n",
    "            line_fz\n",
    "        )\n",
    "        frame = frame + linea + \"\\n\"\n",
    "    print(frame)\n",
    "    archivo_h5.close()"
   ]
  },
  {
   "cell_type": "markdown",
   "id": "2edf30f8-7648-456f-a68f-e54c43483a87",
   "metadata": {},
   "source": [
    "Muestra a imprimir"
   ]
  },
  {
   "cell_type": "code",
   "execution_count": null,
   "id": "a754d77c-1ba7-4d19-831d-35434ecf0025",
   "metadata": {},
   "outputs": [],
   "source": [
    "muestra=20"
   ]
  },
  {
   "cell_type": "markdown",
   "id": "585c2693-0bde-4783-99ce-5c596603ee58",
   "metadata": {},
   "source": [
    "Imprimir muestra de referencia"
   ]
  },
  {
   "cell_type": "code",
   "execution_count": null,
   "id": "a7f8b644-bda7-46ed-87d3-7f1a274d63f6",
   "metadata": {},
   "outputs": [],
   "source": [
    "imprimir_muestra_h5(f\"graficas-inferencias/inferencias/{dataset}-inferencias.h5\", \"test\", \"inf\", muestra)"
   ]
  },
  {
   "cell_type": "markdown",
   "id": "8f55c73a-11a2-48b3-89d0-9a58bea44d4c",
   "metadata": {},
   "source": [
    "Imprimir muestra de inferencia"
   ]
  },
  {
   "cell_type": "code",
   "execution_count": null,
   "id": "6aa3753e-3899-4bf8-8d9a-88e6b4257e46",
   "metadata": {},
   "outputs": [],
   "source": [
    "imprimir_muestra_h5(f\"graficas-inferencias/inferencias/{dataset}-inferencias.h5\", \"test\", \"ref\", muestra)"
   ]
  },
  {
   "cell_type": "markdown",
   "id": "46cfa43a-46ae-4900-82c1-2bcff8724ded",
   "metadata": {},
   "source": [
    "# Procesamiento de datos para graficar"
   ]
  },
  {
   "cell_type": "markdown",
   "id": "21163c45-7fca-4d2a-babf-81dc01d6494b",
   "metadata": {},
   "source": [
    "Ya tenemos las inferencias generadas por el modelo entrenado. Para hacer un analisis mas profundo procesamos los datos de referencia y los de inferencia."
   ]
  },
  {
   "cell_type": "markdown",
   "id": "5b0e670d-3234-446c-96e2-829593a27612",
   "metadata": {},
   "source": [
    "Funciones a utilizar"
   ]
  },
  {
   "cell_type": "code",
   "execution_count": null,
   "id": "f6791a77-67e6-40e5-a45d-a97e982c9ee9",
   "metadata": {},
   "outputs": [],
   "source": [
    "def angle_forces(a,b):\n",
    "    from math import acos, degrees\n",
    "    import numpy as np\n",
    "    from numpy import linalg as la\n",
    "    theta_degrees=degrees(acos((np.dot(a,b))/(la.norm(a)*la.norm(b))))\n",
    "    return theta_degrees"
   ]
  },
  {
   "cell_type": "markdown",
   "id": "49d120a1-8ae8-4fe1-9034-9aed8a7d752e",
   "metadata": {},
   "source": [
    "Cargar archivo de inferencias"
   ]
  },
  {
   "cell_type": "code",
   "execution_count": null,
   "id": "4f92aad1-473a-4590-b6dd-9f0477f51044",
   "metadata": {},
   "outputs": [],
   "source": [
    "#Cargar los arreglos del archivo de inferencias\n",
    "archivo_inferencias=h5py.File(f\"graficas-inferencias/inferencias/{dataset}-inferencias.h5\", \"r\")\n",
    "test=archivo_inferencias[\"test\"]\n",
    "types_test=test[\"types\"]\n",
    "forces_test_inf=test[\"forces_inf\"]\n",
    "forces_test_ref=test[\"forces_ref\"]\n",
    "energy_test_inf=test[\"energy_inf\"]\n",
    "energy_test_ref=test[\"energy_ref\"]"
   ]
  },
  {
   "cell_type": "markdown",
   "id": "96c97eac-423d-4b02-bd45-cdb2000d3748",
   "metadata": {},
   "source": [
    "## Procesar el archivo de inferencias para graficar"
   ]
  },
  {
   "cell_type": "markdown",
   "id": "77276028-2f1a-4a17-8150-bbe77c2151ee",
   "metadata": {},
   "source": [
    "Cargamos la información del entrenamiento y multiplicamos por 1000 para adecuar la escala al estandar."
   ]
  },
  {
   "cell_type": "code",
   "execution_count": null,
   "id": "b836ff00-7b3d-44ca-8500-3ef81b0e2fdc",
   "metadata": {},
   "outputs": [],
   "source": [
    "# Lee el archivo CSV en un DataFrame de pandas\n",
    "path_metric_csv=\"output/metrics.csv\"\n",
    "metrics = pd.read_csv(path_metric_csv)\n",
    "\n",
    "# Multiplica los valores por 1000 en las columnas train_loss y val_loss\n",
    "#metrics['train_loss'] *= 1000.0/222\n",
    "#metrics['val_loss'] *= 1000.0/222\n",
    "\n",
    "# Seleccionar las columnas deseadas\n",
    "selected_columns = ['epoch', 'train_loss', 'val_loss']\n",
    "train_metrics = metrics[selected_columns]\n",
    "\n",
    "# Guardar en un archivo .data con el encabezado deseado\n",
    "with open(\"graficas-inferencias/input-graficas/epoch_vs_loss.data\", 'w') as file:\n",
    "    file.write(\"#Epoch MAE_Train MAE_Val\\n\")\n",
    "    train_metrics.to_csv(file, sep=' ', index=False, header=False, float_format='%.6f')"
   ]
  },
  {
   "cell_type": "markdown",
   "id": "17783f97-5bb5-4754-ba14-2405cde6e8d0",
   "metadata": {},
   "source": [
    "Calculamos el ángulo entre las fuerzas de referencia e inferencia y creamos un archivo para cada gráfica."
   ]
  },
  {
   "cell_type": "code",
   "execution_count": null,
   "id": "d6a09781-f58f-412e-85cb-ea0a81f2a1bd",
   "metadata": {},
   "outputs": [],
   "source": [
    "atomos_unicos = np.unique(types_test).tolist()\n",
    "\n",
    "for i, molecula in enumerate(types_test):\n",
    "    for atomo in atomos_unicos:\n",
    "        indices_atomo = np.where(molecula == atomo)[0]\n",
    "        for k in indices_atomo:\n",
    "            force_reference=forces_test_ref[i][k]\n",
    "            force_inferred=forces_test_inf[i][k]\n",
    "            angle=angle_forces(force_reference,force_inferred)\n",
    "            atomo=int(atomo)\n",
    "            with open(f\"graficas-inferencias/input-graficas/modules-test-{atomo}.dat\",\"a\") as archivo:\n",
    "                archivo.write(str(la.norm(force_reference))+\"\\t\"+str(la.norm(force_inferred))+\"\\n\")\n",
    "            with open(f\"graficas-inferencias/input-graficas/angles-test-{atomo}.dat\",\"a\") as archivo:\n",
    "                archivo.write(str(angle)+\"\\n\")\n",
    "    with open(f\"graficas-inferencias/input-graficas/energy_test_inf.dat\",\"a\") as archivo:\n",
    "        archivo.write(str(energy_test_inf[i])+\"\\n\")\n",
    "    with open(f\"graficas-inferencias/input-graficas/energy_test_sam.dat\",\"a\") as archivo:\n",
    "        archivo.write(str(energy_test_ref[i])+\"\\n\")\n",
    "    with open(f\"graficas-inferencias/input-graficas/energy_abs_dif.dat\",\"a\") as archivo:\n",
    "        archivo.write(str(np.abs(energy_test_ref[i]-energy_test_inf[i])/222)+\"\\n\")\n",
    "\n",
    "#Cerrar correctamente el archivo\n",
    "archivo_inferencias.close()"
   ]
  },
  {
   "cell_type": "markdown",
   "id": "55c7fc18-aabe-4f79-a802-fad96b6f2c1e",
   "metadata": {},
   "source": [
    "# Graficas"
   ]
  },
  {
   "cell_type": "markdown",
   "id": "1841c810-6391-455a-83c7-a096d358f248",
   "metadata": {},
   "source": [
    "## Epoch vs loss"
   ]
  },
  {
   "cell_type": "code",
   "execution_count": null,
   "id": "261ea8e2-a5b5-4751-abcf-0648d8ec1032",
   "metadata": {},
   "outputs": [],
   "source": [
    "# Leer el archivo .data\n",
    "path_data_file = \"graficas-inferencias/input-graficas/epoch_vs_loss.data\"\n",
    "data = pd.read_csv(path_data_file, sep=' ', comment='#', header=None, names=['Epoch', 'MAE_Train', 'MAE_Test'])\n",
    "\n",
    "# Graficar\n",
    "plt.plot(data['Epoch'], data['MAE_Train']*1000.0/222, label='MAE_Train')\n",
    "plt.plot(data['Epoch'], data['MAE_Test']*1000.0/222, label='MAE_Val')\n",
    "plt.xlabel('Epoch')\n",
    "plt.ylabel('Mean Squared Error (meV)')\n",
    "plt.title('Epoch vs Mean Squared Error')\n",
    "plt.legend()\n",
    "plt.ylim(0, 6)  # Establecer el rango del eje y\n",
    "plt.grid(True)\n",
    "plt.savefig(\"graficas-inferencias/output-graficas/figura-01.png\")\n",
    "plt.show()\n",
    "\n",
    "\n",
    "# Encontrar los mínimos de MAE_Train y MAE_Test\n",
    "print(\"Mínimo de MAE_Train:\", data['MAE_Train'].min())\n",
    "print(\"Mínimo de MAE_Test:\", data['MAE_Test'].min())"
   ]
  },
  {
   "cell_type": "markdown",
   "id": "9f3f457c-1161-42e5-8276-8e5c017da11d",
   "metadata": {},
   "source": [
    "## Energy"
   ]
  },
  {
   "cell_type": "code",
   "execution_count": null,
   "id": "91b5628c-b893-4c23-a912-c1a79783714a",
   "metadata": {},
   "outputs": [],
   "source": [
    "# Rutas de los archivos que se utilizarán\n",
    "REF_PATH = 'graficas-inferencias/input-graficas/energy_test_sam.dat'\n",
    "INF_PATH = 'graficas-inferencias/input-graficas/energy_test_inf.dat'\n",
    "\n",
    "# Cargar los datos con Pandas\n",
    "ref_data = pd.read_csv(REF_PATH, header=None, names=['REF_PATH'])/222\n",
    "inf_data = pd.read_csv(INF_PATH, header=None, names=['INF_PATH'])/222\n",
    "\n",
    "# Obtener los valores mínimos y máximos de ambos conjuntos de datos\n",
    "xy_min = min(ref_data['REF_PATH'].min(), inf_data['INF_PATH'].min())\n",
    "xy_max = max(ref_data['REF_PATH'].max(), inf_data['INF_PATH'].max())\n",
    "\n",
    "# Graficar\n",
    "plt.scatter(ref_data['REF_PATH'], inf_data['INF_PATH'])\n",
    "plt.xlabel('DFT energy (eV)')  # Los datos de referencia deben estar en el eje x\n",
    "plt.ylabel('TorchMD-net energy (eV)')  # Los datos de inferencia deben estar en el eje y\n",
    "plt.title('Reference energy vs Inferred energy')\n",
    "plt.grid(True)\n",
    "\n",
    "# Establecer los límites de los ejes\n",
    "plt.xlim(xy_min, xy_max)\n",
    "plt.ylim(xy_min, xy_max)\n",
    "\n",
    "plt.savefig(\"graficas-inferencias/output-graficas/figura-02.png\")\n",
    "plt.show()"
   ]
  },
  {
   "cell_type": "markdown",
   "id": "40602c69-98a6-4221-bc4b-f216450099ea",
   "metadata": {},
   "source": [
    "#### Discretos"
   ]
  },
  {
   "cell_type": "code",
   "execution_count": null,
   "id": "02ec0170-4282-4c2f-a3a2-5826af6d5560",
   "metadata": {},
   "outputs": [],
   "source": [
    "# Rutas de los archivos que se utilizarán\n",
    "REF_PATH = 'graficas-inferencias/input-graficas/energy_test_sam.dat'\n",
    "INF_PATH = 'graficas-inferencias/input-graficas/energy_test_inf.dat'\n",
    "\n",
    "# Cargar los datos con Pandas y dividir por 222\n",
    "ref_data = pd.read_csv(REF_PATH, header=None, names=['REF_PATH']) / 222\n",
    "inf_data = pd.read_csv(INF_PATH, header=None, names=['INF_PATH']) / 222\n",
    "\n",
    "# Obtener los valores mínimos y máximos de ambos conjuntos de datos\n",
    "xy_min = min(ref_data['REF_PATH'].min(), inf_data['INF_PATH'].min())\n",
    "xy_max = max(ref_data['REF_PATH'].max(), inf_data['INF_PATH'].max())\n",
    "\n",
    "# Calcular el histograma 2D\n",
    "hist, xedges, yedges = np.histogram2d(ref_data['REF_PATH'], inf_data['INF_PATH'], bins=50, range=[[xy_min, xy_max], [xy_min, xy_max]], density=True)\n",
    "\n",
    "# Filtrar los datos donde la densidad es cero\n",
    "non_zero_indices = hist != 0\n",
    "hist_filtered = np.where(non_zero_indices, hist, np.nan)\n",
    "\n",
    "# Graficar el histograma 2D de densidad\n",
    "plt.imshow(hist_filtered.T, extent=[xy_min, xy_max, xy_min, xy_max], cmap='Blues', origin='lower', aspect='auto')\n",
    "plt.colorbar(label='Density')\n",
    "plt.xlabel('DFT energy (eV)')\n",
    "plt.ylabel('TorchMD-net energy (eV)')\n",
    "plt.title('Reference energy vs Inferred energy (Density)')\n",
    "plt.grid(True)\n",
    "\n",
    "plt.savefig(\"graficas-inferencias/output-graficas/figura-03.png\")\n",
    "plt.show()"
   ]
  },
  {
   "cell_type": "code",
   "execution_count": null,
   "id": "38f534ac-4123-40b6-9ffd-3dbe965cbc74",
   "metadata": {},
   "outputs": [],
   "source": [
    "# Rutas de los archivos que se utilizarán\n",
    "REF_PATH = 'graficas-inferencias/input-graficas/energy_test_sam.dat'\n",
    "INF_PATH = 'graficas-inferencias/input-graficas/energy_test_inf.dat'\n",
    "\n",
    "# Cargar los datos con Pandas y dividir por 222\n",
    "ref_data = pd.read_csv(REF_PATH, header=None, names=['REF_PATH']) / 222\n",
    "inf_data = pd.read_csv(INF_PATH, header=None, names=['INF_PATH']) / 222\n",
    "\n",
    "# Obtener los valores mínimos y máximos de ambos conjuntos de datos\n",
    "xy_min = min(ref_data['REF_PATH'].min(), inf_data['INF_PATH'].min())\n",
    "xy_max = max(ref_data['REF_PATH'].max(), inf_data['INF_PATH'].max())\n",
    "\n",
    "# Calcular el histograma 2D\n",
    "hist, xedges, yedges = np.histogram2d(ref_data['REF_PATH'], inf_data['INF_PATH'], bins=50, range=[[xy_min, xy_max], [xy_min, xy_max]], density=True)\n",
    "\n",
    "# Filtrar los datos donde la densidad es cero\n",
    "non_zero_indices = hist != 0\n",
    "xpos, ypos = np.meshgrid(xedges[:-1], yedges[:-1], indexing=\"ij\")\n",
    "xpos = xpos[non_zero_indices]\n",
    "ypos = ypos[non_zero_indices]\n",
    "dz = hist[non_zero_indices]\n",
    "\n",
    "# Crear una figura y obtener ejes 3D\n",
    "fig = plt.figure(figsize=(10, 8))  # Ajustar el tamaño de la figura\n",
    "ax = fig.add_subplot(111, projection='3d')\n",
    "\n",
    "# Graficar la superficie\n",
    "ax.plot_trisurf(xpos.ravel(), ypos.ravel(), dz.ravel(), cmap='Blues')\n",
    "\n",
    "# Establecer los límites de los ejes x e y\n",
    "ax.set_xlim(xy_min, xy_max)\n",
    "ax.set_ylim(xy_min, xy_max)\n",
    "\n",
    "# Agregar etiquetas y título\n",
    "ax.set_xlabel('DFT Energy (eV)')\n",
    "ax.set_ylabel('TorchMD-Net Energy (eV)')\n",
    "ax.set_zlabel('Density')\n",
    "ax.set_title('Reference energy vs Inferred energy (Density Surface)')\n",
    "\n",
    "# Mostrar la gráfica\n",
    "plt.savefig(\"graficas-inferencias/output-graficas/figura-04.png\")\n",
    "plt.show()"
   ]
  },
  {
   "cell_type": "code",
   "execution_count": null,
   "id": "eda59d1d-ab44-48cd-a4fe-229c1ac7b3a0",
   "metadata": {},
   "outputs": [],
   "source": [
    "# Rutas de los archivos que se utilizarán\n",
    "REF_PATH = 'graficas-inferencias/input-graficas/energy_test_sam.dat'\n",
    "INF_PATH = 'graficas-inferencias/input-graficas/energy_test_inf.dat'\n",
    "\n",
    "# Cargar los datos con Pandas\n",
    "ref_data = (pd.read_csv(REF_PATH, header=None, names=['REF_PATH']))/222\n",
    "inf_data = (pd.read_csv(INF_PATH, header=None, names=['INF_PATH']))/222\n",
    "\n",
    "# Graficar histogramas\n",
    "plt.hist(ref_data, bins=50, edgecolor='red', alpha=0.5, label='Reference', align='mid', color='red',density=\"True\")\n",
    "plt.hist(inf_data, bins=50, edgecolor='green', alpha=0.5, label='Inference', align='mid', color='green',density=\"True\")\n",
    "\n",
    "# Agregar etiquetas y título\n",
    "plt.xlabel('Energy (eV)')\n",
    "plt.ylabel('Density')\n",
    "plt.title('Reference and inference energy distribution')\n",
    "\n",
    "# Mostrar leyenda\n",
    "plt.legend()\n",
    "\n",
    "# Mostrar el histograma\n",
    "plt.savefig(\"graficas-inferencias/output-graficas/figura-05.png\")\n",
    "plt.show()"
   ]
  },
  {
   "cell_type": "code",
   "execution_count": null,
   "id": "6aabdd92-d790-4dd3-8385-1f61fe6a5115",
   "metadata": {},
   "outputs": [],
   "source": [
    "# Rutas de los archivos que se utilizarán\n",
    "REF_PATH = 'graficas-inferencias/input-graficas/energy_test_sam.dat'\n",
    "INF_PATH = 'graficas-inferencias/input-graficas/energy_test_inf.dat'\n",
    "\n",
    "# Cargar los datos con Pandas\n",
    "ref_data = (pd.read_csv(REF_PATH, header=None, names=['REF_PATH']))/222\n",
    "inf_data = (pd.read_csv(INF_PATH, header=None, names=['INF_PATH']))/222\n",
    "\n",
    "# Calcular la diferencia absoluta entre las columnas\n",
    "abs_diff = np.abs(ref_data['REF_PATH']- inf_data['INF_PATH'])\n",
    "\n",
    "# Graficar el histograma de la diferencia absoluta\n",
    "plt.hist(abs_diff, bins=50, edgecolor='black', density=True)  # Density set to True\n",
    "plt.xlabel('Difference between the reference energy and the energy inferred (eV)')\n",
    "plt.ylabel('Density')  # Cambiamos Frequency a Density\n",
    "plt.title('Absolute energy difference distribution')\n",
    "plt.grid(True)\n",
    "plt.savefig(\"graficas-inferencias/output-graficas/figura-06.png\")\n",
    "plt.show()"
   ]
  },
  {
   "cell_type": "markdown",
   "id": "ea69be7b-ddc1-492f-a3ce-f48b6065f1e4",
   "metadata": {},
   "source": [
    "#### Continuos"
   ]
  },
  {
   "cell_type": "markdown",
   "id": "ebbe2207-f620-4caf-9117-58570bb3a882",
   "metadata": {},
   "source": [
    "```python\n",
    "# Rutas de los archivos que se utilizarán\n",
    "REF_PATH = 'graficas-inferencias/input-graficas/energy_test_sam.dat'\n",
    "INF_PATH = 'graficas-inferencias/input-graficas/energy_test_inf.dat'\n",
    "\n",
    "# Cargar los datos con Pandas\n",
    "ref_data = pd.read_csv(REF_PATH, header=None, names=['REF_PATH']) / 222\n",
    "inf_data = pd.read_csv(INF_PATH, header=None, names=['INF_PATH']) / 222\n",
    "\n",
    "# Calcular la densidad de puntos\n",
    "xy = np.vstack([ref_data['REF_PATH'], inf_data['INF_PATH']])\n",
    "z = gaussian_kde(xy)(xy)\n",
    "\n",
    "# Ordenar los puntos por densidad, para que los puntos más densos se tracen al final\n",
    "idx = z.argsort()\n",
    "xy_sorted = xy[:, idx]\n",
    "z_sorted = z[idx]\n",
    "\n",
    "# Asignar los valores ordenados de x e y\n",
    "x, y = xy_sorted"
   ]
  },
  {
   "cell_type": "markdown",
   "id": "992b8bab-df11-42f8-9954-bc67a6f875ce",
   "metadata": {},
   "source": [
    "```python\n",
    "# Crear una figura\n",
    "#plt.figure(figsize=(10, 8))  # Ajustar el tamaño de la figura\n",
    "\n",
    "# Graficar los puntos en 2D\n",
    "plt.scatter(x, y, c=z_sorted, cmap='Blues', s=25)\n",
    "\n",
    "# Establecer etiquetas y título\n",
    "plt.colorbar(label='Density')\n",
    "plt.xlabel('Energy DFT (eV)')\n",
    "plt.ylabel('Energy TorchMD-Net (eV)')\n",
    "plt.title('Reference energy vs Inferred energy (Density)')\n",
    "\n",
    "# Mostrar la gráfica\n",
    "plt.show()\n"
   ]
  },
  {
   "cell_type": "markdown",
   "id": "8f7ecdf5-9ca4-4065-86ab-9f780be27247",
   "metadata": {},
   "source": [
    "```python\n",
    "# Rutas de los archivos que se utilizarán\n",
    "REF_PATH = 'graficas-inferencias/input-graficas/energy_test_sam.dat'\n",
    "INF_PATH = 'graficas-inferencias/input-graficas/energy_test_inf.dat'\n",
    "\n",
    "# Cargar los datos con Pandas\n",
    "ref_data = pd.read_csv(REF_PATH, header=None, names=['REF_PATH']) / 222\n",
    "inf_data = pd.read_csv(INF_PATH, header=None, names=['INF_PATH']) / 222\n",
    "\n",
    "# Calcular la densidad de puntos\n",
    "xy = np.vstack([ref_data['REF_PATH'], inf_data['INF_PATH']])\n",
    "z = gaussian_kde(xy)(xy)\n",
    "\n",
    "# Ordenar los puntos por densidad, para que los puntos más densos se tracen al final\n",
    "idx = z.argsort()\n",
    "xy_sorted = xy[:, idx]\n",
    "z_sorted = z[idx]\n",
    "\n",
    "# Asignar los valores ordenados de x e y\n",
    "x, y = xy_sorted"
   ]
  },
  {
   "cell_type": "markdown",
   "id": "8ed49488-25af-462a-9069-4bec80a43882",
   "metadata": {},
   "source": [
    "```python\n",
    "# Crear una figura y obtener ejes 3D\n",
    "fig = plt.figure(figsize=(10, 8))  # Ajustar el tamaño de la figura\n",
    "ax = fig.add_subplot(111, projection='3d')\n",
    "\n",
    "# Graficar los puntos en 3D\n",
    "ax.scatter(x, y, z_sorted, c=z_sorted, cmap='Blues', s=25)\n",
    "\n",
    "# Agregar etiquetas y título\n",
    "ax.set_xlabel('DFT Energy (eV)')\n",
    "ax.set_ylabel('TorchMD-Net Energy (eV)')\n",
    "ax.set_zlabel('Density')\n",
    "ax.set_title('Reference energy vs Inferred energy (Density Surface)')\n",
    "\n",
    "# Mostrar la gráfica\n",
    "plt.show()"
   ]
  },
  {
   "cell_type": "markdown",
   "id": "0a13a5d6-7e16-4fa5-89ec-5be38bf14223",
   "metadata": {},
   "source": [
    "## Angles"
   ]
  },
  {
   "cell_type": "markdown",
   "id": "e2c58e48-7dbd-474e-a76a-14ae5ba43b85",
   "metadata": {},
   "source": [
    "### Hydrogen"
   ]
  },
  {
   "cell_type": "code",
   "execution_count": null,
   "id": "a9a1c0bf-baba-489f-a561-3e97b5623b06",
   "metadata": {},
   "outputs": [],
   "source": [
    "# Ruta del archivo que se utilizará\n",
    "Angles_H_PATH = 'graficas-inferencias/input-graficas/angles-test-1.dat'\n",
    "\n",
    "# Cargar los datos con Pandas\n",
    "angles_h_data = pd.read_csv(Angles_H_PATH, header=None, skiprows=1, delim_whitespace=True)\n",
    "\n",
    "# Calcular el histograma\n",
    "hist, bin_edges = np.histogram(angles_h_data.values.flatten(), bins=200, density=True)\n",
    "bin_centres = (bin_edges[:-1] + bin_edges[1:]) / 2\n",
    "\n",
    "# Graficar el histograma\n",
    "plt.scatter(bin_centres, hist * 100)\n",
    "\n",
    "# Definir etiquetas y títulos\n",
    "plt.xlabel('Angle between DFT and TorchMD-Net forces (degrees)')\n",
    "plt.ylabel('Frequency of occurrence (%)')\n",
    "plt.title('Angles Distribution (Hydrogen)')\n",
    "\n",
    "# Mostrar el gráfico\n",
    "plt.ylim(0, 4)\n",
    "plt.grid(True)\n",
    "plt.tight_layout()\n",
    "plt.savefig(\"graficas-inferencias/output-graficas/figura-07.png\")\n",
    "plt.show()"
   ]
  },
  {
   "cell_type": "markdown",
   "id": "5269c2b0-de8c-449f-b9d4-3b6e4d3ca11a",
   "metadata": {},
   "source": [
    "### Oxygen"
   ]
  },
  {
   "cell_type": "code",
   "execution_count": null,
   "id": "c1cbb36e-7cf9-4fd0-90e7-750c3660ea8e",
   "metadata": {},
   "outputs": [],
   "source": [
    "# Ruta del archivo que se utilizará\n",
    "Angles_O_PATH = 'graficas-inferencias/input-graficas/angles-test-8.dat'\n",
    "\n",
    "# Cargar los datos con Pandas\n",
    "angles_o_data = pd.read_csv(Angles_O_PATH, header=None, skiprows=1, delim_whitespace=True)\n",
    "\n",
    "# Calcular el histograma\n",
    "hist, bin_edges = np.histogram(angles_o_data.values.flatten(), bins=200, density=True)\n",
    "bin_centres = (bin_edges[:-1] + bin_edges[1:]) / 2\n",
    "\n",
    "# Graficar el histograma\n",
    "plt.scatter(bin_centres, hist * 100)\n",
    "\n",
    "# Definir etiquetas y títulos\n",
    "plt.xlabel('Angle between DFT and TorchMD-Net forces (degrees)')\n",
    "plt.ylabel('Frequency of occurrence (%)')\n",
    "plt.title('Angles Distribution (Oxygen)')\n",
    "\n",
    "# Mostrar el gráfico\n",
    "plt.ylim(0, 4)\n",
    "plt.grid(True)\n",
    "plt.tight_layout()\n",
    "plt.savefig(\"graficas-inferencias/output-graficas/figura-08.png\")\n",
    "plt.show()"
   ]
  },
  {
   "cell_type": "markdown",
   "id": "54e41df9-8f7b-43df-8d7d-814a0b6d24ab",
   "metadata": {},
   "source": [
    "### Aluminium"
   ]
  },
  {
   "cell_type": "code",
   "execution_count": null,
   "id": "7d08888b-966f-4c7c-bc0f-b595102c39fa",
   "metadata": {},
   "outputs": [],
   "source": [
    "# Ruta del archivo que se utilizará\n",
    "Angles_Al_PATH = 'graficas-inferencias/input-graficas/angles-test-13.dat'\n",
    "\n",
    "# Cargar los datos con Pandas\n",
    "angles_al_data = pd.read_csv(Angles_Al_PATH, header=None, skiprows=1, delim_whitespace=True)\n",
    "\n",
    "# Calcular el histograma\n",
    "hist, bin_edges = np.histogram(angles_al_data.values.flatten(), bins=200, density=True)\n",
    "bin_centres = (bin_edges[:-1] + bin_edges[1:]) / 2\n",
    "\n",
    "# Graficar el histograma\n",
    "plt.scatter(bin_centres, hist * 100)\n",
    "\n",
    "# Definir etiquetas y títulos\n",
    "plt.xlabel('Angle between DFT and TorchMD-Net forces (degrees)')\n",
    "plt.ylabel('Frequency of occurrence (%)')\n",
    "plt.title('Angles Distribution (Aluminium)')\n",
    "\n",
    "# Mostrar el gráfico\n",
    "plt.ylim(0, 4)\n",
    "plt.grid(True)\n",
    "plt.tight_layout()\n",
    "plt.savefig(\"graficas-inferencias/output-graficas/figura-09.png\")\n",
    "plt.show()"
   ]
  },
  {
   "cell_type": "markdown",
   "id": "5694ee30-644a-4e4f-ae74-b5d791410c3b",
   "metadata": {},
   "source": [
    "## Modules"
   ]
  },
  {
   "cell_type": "markdown",
   "id": "e372ba1b-23b1-435b-9475-3de37ec7ec64",
   "metadata": {},
   "source": [
    "### Hydrogen"
   ]
  },
  {
   "cell_type": "code",
   "execution_count": null,
   "id": "27a77860-7d44-4df7-98ec-65a88be557f8",
   "metadata": {},
   "outputs": [],
   "source": [
    "x_limit=12\n",
    "y_limit=12"
   ]
  },
  {
   "cell_type": "code",
   "execution_count": null,
   "id": "f4c20ef3-5228-41f8-aa7f-ed81a7a3500f",
   "metadata": {},
   "outputs": [],
   "source": [
    "# Ruta del archivo para los módulos\n",
    "MODULE_H_PATH = 'graficas-inferencias/input-graficas/modules-test-1.dat'\n",
    "\n",
    "# Cargar los datos con NumPy\n",
    "module_h_data = np.loadtxt(MODULE_H_PATH)\n",
    "\n",
    "# Graficar\n",
    "plt.scatter(module_h_data[:, 0], module_h_data[:, 1], s=25)\n",
    "plt.xlabel('DFT modules (eV/$\\AA$)')\n",
    "plt.ylabel('TorchMD-net modules (eV/$\\AA$)')\n",
    "plt.title('Reference modules vs Inferred modules (Hydrogen)')\n",
    "plt.xlim(0, x_limit)\n",
    "plt.ylim(0, y_limit)\n",
    "plt.savefig(\"graficas-inferencias/output-graficas/figura-10.png\")\n",
    "plt.show()"
   ]
  },
  {
   "cell_type": "markdown",
   "id": "aae90890-d9d2-4506-aed2-4322048daa7a",
   "metadata": {},
   "source": [
    "#### Discretos"
   ]
  },
  {
   "cell_type": "code",
   "execution_count": null,
   "id": "acd1b80c-a47c-48ae-b5a4-d123bb862127",
   "metadata": {},
   "outputs": [],
   "source": [
    "# Ruta del archivo para los módulos\n",
    "MODULE_H_PATH = 'graficas-inferencias/input-graficas/modules-test-1.dat'\n",
    "\n",
    "# Cargar los datos con NumPy\n",
    "module_h_data = np.loadtxt(MODULE_H_PATH)\n",
    "\n",
    "# Cargar los datos con NumPy\n",
    "ref_data_array = module_h_data[:, 0]\n",
    "inf_data_array = module_h_data[:, 1]\n",
    "\n",
    "# Calcular el histograma 2D\n",
    "hist, xedges, yedges = np.histogram2d(ref_data_array, inf_data_array, bins=50, density=True)\n",
    "\n",
    "# Filtrar los datos donde la densidad es cero\n",
    "non_zero_indices = hist != 0\n",
    "hist_filtered = np.where(non_zero_indices, hist, np.nan)\n",
    "\n",
    "# Crear la gráfica\n",
    "plt.imshow(hist_filtered.T, extent=[xedges[0], xedges[-1], yedges[0], yedges[-1]], cmap='Blues', origin='lower', aspect='auto')\n",
    "plt.colorbar(label='Density')\n",
    "plt.xlabel('DFT modules (eV/$\\AA$)')\n",
    "plt.ylabel('TorchMD-net modules (eV/$\\AA$)')\n",
    "plt.title('Reference modules vs Inferred modules (Hydrogen)')\n",
    "plt.xlim(0, x_limit)\n",
    "plt.ylim(0, y_limit)\n",
    "\n",
    "# Mostrar la gráfica\n",
    "plt.savefig(\"graficas-inferencias/output-graficas/figura-11.png\")\n",
    "plt.show()"
   ]
  },
  {
   "cell_type": "code",
   "execution_count": null,
   "id": "414721cc-1404-40dd-a871-546bb3950fba",
   "metadata": {},
   "outputs": [],
   "source": [
    "# Ruta del archivo para los módulos\n",
    "MODULE_H_PATH = 'graficas-inferencias/input-graficas/modules-test-1.dat'\n",
    "\n",
    "# Cargar los datos con NumPy\n",
    "module_h_data = np.loadtxt(MODULE_H_PATH)\n",
    "\n",
    "# Cargar los datos con NumPy\n",
    "ref_data_array = module_h_data[:, 0]\n",
    "inf_data_array = module_h_data[:, 1]\n",
    "\n",
    "# Calcular el histograma 2D\n",
    "hist, xedges, yedges = np.histogram2d(ref_data_array, inf_data_array, bins=50, density=True)\n",
    "\n",
    "# Coordenadas de las esquinas de los rectángulos\n",
    "xpos, ypos = np.meshgrid(xedges[:-1], yedges[:-1], indexing=\"ij\")\n",
    "xpos = xpos.ravel()\n",
    "ypos = ypos.ravel()\n",
    "zpos = 0\n",
    "\n",
    "# Tamaños de los rectángulos\n",
    "dx = dy = 0.04 * np.ones_like(zpos)\n",
    "#dx = dy = 0.0001 * np.ones_like(zpos)\n",
    "dz = hist.ravel()\n",
    "\n",
    "# Filtrar los datos donde la densidad es cero\n",
    "non_zero_indices = dz != 0\n",
    "xpos = xpos[non_zero_indices]\n",
    "ypos = ypos[non_zero_indices]\n",
    "dz = dz[non_zero_indices]\n",
    "\n",
    "# Crear una figura y obtener ejes 3D\n",
    "fig = plt.figure(figsize=(10, 8))  # Ajustar el tamaño de la figura\n",
    "ax = fig.add_subplot(111, projection='3d')\n",
    "\n",
    "# Graficar la superficie\n",
    "ax.plot_trisurf(xpos, ypos, dz, cmap='Blues')\n",
    "\n",
    "# Establecer los límites de los ejes x y y\n",
    "ax.set_xlim(0, x_limit)\n",
    "ax.set_ylim(0, y_limit)\n",
    "\n",
    "# Agregar etiquetas y título\n",
    "ax.set_xlabel('DFT modules (eV/$\\AA$)')\n",
    "ax.set_ylabel('TorchMD-net modules (eV/$\\AA$)')\n",
    "ax.set_zlabel('Density')\n",
    "ax.set_title('Reference modules vs Inferred modules (Hydrogen) (Surface)')\n",
    "\n",
    "# Mostrar la gráfica\n",
    "plt.savefig(\"graficas-inferencias/output-graficas/figura-12.png\")\n",
    "plt.show()\n"
   ]
  },
  {
   "cell_type": "code",
   "execution_count": null,
   "id": "dc8cb733-e35b-41ad-86d4-bc5dfd6fc655",
   "metadata": {},
   "outputs": [],
   "source": [
    "# Ruta del archivo para los módulos\n",
    "MODULE_H_PATH = 'graficas-inferencias/input-graficas/modules-test-1.dat'\n",
    "#entrenamientos/bo222-200k-1173k/2024-03-15/graficas-inferencias/input-graficas/modules-test-1.dat\n",
    "\n",
    "# Cargar los datos con Pandas\n",
    "data = pd.read_csv(MODULE_H_PATH, header=None, delim_whitespace=True)\n",
    "\n",
    "# Dividir los datos en dos columnas\n",
    "ref_data_array = data.iloc[:, 0]  # Primera columna\n",
    "inf_data_array = data.iloc[:, 1]   # Segunda columna\n",
    "\n",
    "# Graficar histogramas\n",
    "plt.hist(ref_data_array, bins=100, edgecolor='red', alpha=0.5, label='Reference', align='mid', color='red',density=True)\n",
    "plt.hist(inf_data_array, bins=100, edgecolor='green', alpha=0.5, label='Inference', align='mid', color='green',density=True)\n",
    "\n",
    "# Agregar etiquetas y título\n",
    "plt.xlabel('Modules (eV/$\\AA$)')\n",
    "plt.ylabel('Density')\n",
    "plt.title('Distribution of the module of reference and inferred forces (Hydrogen)')\n",
    "\n",
    "# Mostrar leyenda\n",
    "plt.legend()\n",
    "\n",
    "# Mostrar el histograma\n",
    "plt.savefig(\"graficas-inferencias/output-graficas/figura-13.png\")\n",
    "plt.show()"
   ]
  },
  {
   "cell_type": "markdown",
   "id": "3146da7d-ea2d-4f85-bd72-ead9ed290a1b",
   "metadata": {},
   "source": [
    "#### Continuos"
   ]
  },
  {
   "cell_type": "markdown",
   "id": "97ec9751-97b7-4732-9083-4b5c1c6f7228",
   "metadata": {},
   "source": [
    "```python\n",
    "# Ruta del archivo para los módulos\n",
    "MODULE_Al_PATH = 'graficas-inferencias/input-graficas/modules-test-1.dat'\n",
    "\n",
    "# Cargar los datos con NumPy\n",
    "data = np.loadtxt(MODULE_Al_PATH)\n",
    "\n",
    "# Dividir los datos en dos columnas\n",
    "ref_data_array = data[:, 0]  # Primera columna\n",
    "inf_data_array = data[:, 1]  # Segunda columna\n",
    "\n",
    "# Calcular la densidad de puntos\n",
    "xy = np.vstack([ref_data_array, inf_data_array])\n",
    "z = gaussian_kde(xy)(xy)\n",
    "\n",
    "# Ordenar los puntos por densidad, para que los puntos más densos se tracen al final\n",
    "idx = z.argsort()\n",
    "xy_sorted = xy[:, idx]\n",
    "z_sorted = z[idx]\n",
    "\n",
    "# Asignar los valores ordenados de x e y\n",
    "x, y = xy_sorted"
   ]
  },
  {
   "cell_type": "markdown",
   "id": "153949d8-1fab-4011-b634-74fc2c8310d0",
   "metadata": {},
   "source": [
    "```python\n",
    "# Crear una figura\n",
    "#plt.figure(figsize=(10, 8))  # Ajustar el tamaño de la figura\n",
    "\n",
    "# Graficar los puntos en 2D\n",
    "plt.scatter(x, y, c=z_sorted, cmap='Blues', s=25)\n",
    "\n",
    "# Establecer etiquetas y título\n",
    "plt.xlabel('DFT modules (Ha/Bohr)')\n",
    "plt.ylabel('TorchMD-net modules (Ha/Bohr)')\n",
    "plt.title('Reference modules vs Inferred modules (Hydrogen)')\n",
    "plt.xlim(0, x_limit)\n",
    "plt.ylim(0, y_limit)\n",
    "\n",
    "# Mostrar la gráfica\n",
    "plt.colorbar(label='Density')\n",
    "plt.show()"
   ]
  },
  {
   "cell_type": "markdown",
   "id": "d5b223a9-6fcf-4d75-abba-5614e4e70294",
   "metadata": {},
   "source": [
    "```python\n",
    "# Ruta del archivo para los módulos\n",
    "MODULE_Al_PATH = 'graficas-inferencias/input-graficas/modules-test-1.dat'\n",
    "\n",
    "# Cargar los datos con NumPy\n",
    "data = np.loadtxt(MODULE_Al_PATH)\n",
    "\n",
    "# Dividir los datos en dos columnas\n",
    "ref_data_array = data[:, 0]  # Primera columna\n",
    "inf_data_array = data[:, 1]  # Segunda columna\n",
    "\n",
    "# Calcular la densidad de puntos\n",
    "xy = np.vstack([ref_data_array, inf_data_array])\n",
    "z = gaussian_kde(xy)(xy)\n",
    "\n",
    "# Ordenar los puntos por densidad, para que los puntos más densos se tracen al final\n",
    "idx = z.argsort()\n",
    "xy_sorted = xy[:, idx]\n",
    "z_sorted = z[idx]\n",
    "\n",
    "# Asignar los valores ordenados de x e y\n",
    "x, y = xy_sorted"
   ]
  },
  {
   "cell_type": "markdown",
   "id": "0c18a232-ae17-4f8b-b3b6-f1b7f67bfeaa",
   "metadata": {},
   "source": [
    "```python\n",
    "# Crear una figura y obtener ejes 3D\n",
    "fig = plt.figure(figsize=(10, 8))  # Ajustar el tamaño de la figura\n",
    "ax = fig.add_subplot(111, projection='3d')\n",
    "\n",
    "# Graficar los puntos en 3D\n",
    "ax.scatter(x, y, z_sorted, c=z_sorted, cmap='Blues', s=25)\n",
    "\n",
    "# Establecer los límites de los ejes x y y\n",
    "ax.set_xlim(0, x_limit)\n",
    "ax.set_ylim(0, y_limit)\n",
    "\n",
    "# Establecer etiquetas y título\n",
    "ax.set_xlabel('DFT modules (Ha/Bohr)')\n",
    "ax.set_ylabel('TorchMD-net modules (Ha/Bohr)')\n",
    "ax.set_zlabel('Density')\n",
    "ax.set_title('Reference modules vs Inferred modules (Hydrogen)')\n",
    "\n",
    "# Mostrar la gráfica\n",
    "plt.show()"
   ]
  },
  {
   "cell_type": "markdown",
   "id": "4bdd618e-769a-4994-b2f8-9366e3ed0944",
   "metadata": {},
   "source": [
    "### Oxygen"
   ]
  },
  {
   "cell_type": "code",
   "execution_count": null,
   "id": "27dd4b80-62db-4c0e-a762-8b2142032f25",
   "metadata": {},
   "outputs": [],
   "source": [
    "x_limit=12\n",
    "y_limit=12"
   ]
  },
  {
   "cell_type": "code",
   "execution_count": null,
   "id": "bd816a95-f14e-40cb-a5e2-2fcd27f5ac2d",
   "metadata": {},
   "outputs": [],
   "source": [
    "# Ruta del archivo para los módulos\n",
    "MODULE_O_PATH = 'graficas-inferencias/input-graficas/modules-test-8.dat'\n",
    "\n",
    "# Cargar los datos con NumPy\n",
    "module_o_data = np.loadtxt(MODULE_O_PATH)\n",
    "\n",
    "# Graficar\n",
    "plt.scatter(module_o_data[:, 0], module_o_data[:, 1], s=25)\n",
    "plt.xlabel('DFT modules (eV/$\\AA$)')\n",
    "plt.ylabel('TorchMD-net modules (eV/$\\AA$)')\n",
    "plt.title('Reference modules vs Inferred modules (Oxygen)')\n",
    "plt.xlim(0, x_limit)\n",
    "plt.ylim(0, y_limit)\n",
    "plt.savefig(\"graficas-inferencias/output-graficas/figura-14.png\")\n",
    "plt.show()"
   ]
  },
  {
   "cell_type": "markdown",
   "id": "2a04f180-38bd-4b41-a006-ef2351ce38c0",
   "metadata": {},
   "source": [
    "#### Discretos"
   ]
  },
  {
   "cell_type": "code",
   "execution_count": null,
   "id": "f91c4b84-f736-45e8-becc-ddb18c114d9d",
   "metadata": {},
   "outputs": [],
   "source": [
    "# Ruta del archivo para los módulos\n",
    "MODULE_O_PATH = 'graficas-inferencias/input-graficas/modules-test-8.dat'\n",
    "\n",
    "# Cargar los datos con NumPy\n",
    "module_o_data = np.loadtxt(MODULE_O_PATH)\n",
    "\n",
    "# Cargar los datos con NumPy\n",
    "ref_data_array = module_o_data[:, 0]\n",
    "inf_data_array = module_o_data[:, 1]\n",
    "\n",
    "# Calcular el histograma 2D\n",
    "hist, xedges, yedges = np.histogram2d(ref_data_array, inf_data_array, bins=50, density=True)\n",
    "\n",
    "# Filtrar los datos donde la densidad es cero\n",
    "non_zero_indices = hist != 0\n",
    "hist_filtered = np.where(non_zero_indices, hist, np.nan)\n",
    "\n",
    "# Crear la gráfica\n",
    "plt.imshow(hist_filtered.T, extent=[xedges[0], xedges[-1], yedges[0], yedges[-1]], cmap='Blues', origin='lower', aspect='auto')\n",
    "plt.colorbar(label='Density')\n",
    "plt.xlabel('DFT modules (eV/$\\AA$)')\n",
    "plt.ylabel('TorchMD-net modules (eV/$\\AA$)')\n",
    "plt.title('Reference modules vs Inferred modules (Oxygen)')\n",
    "plt.xlim(0, x_limit)\n",
    "plt.ylim(0, y_limit)\n",
    "\n",
    "# Mostrar la gráfica\n",
    "plt.savefig(\"graficas-inferencias/output-graficas/figura-15.png\")\n",
    "plt.show()"
   ]
  },
  {
   "cell_type": "code",
   "execution_count": null,
   "id": "6e7637cc-fe98-4506-94c7-bb654ce91bba",
   "metadata": {},
   "outputs": [],
   "source": [
    "# Ruta del archivo para los módulos\n",
    "MODULE_O_PATH = 'graficas-inferencias/input-graficas/modules-test-8.dat'\n",
    "\n",
    "# Cargar los datos con NumPy\n",
    "module_o_data = np.loadtxt(MODULE_O_PATH)\n",
    "\n",
    "# Cargar los datos con NumPy\n",
    "ref_data_array = module_o_data[:, 0]\n",
    "inf_data_array = module_o_data[:, 1]\n",
    "\n",
    "# Calcular el histograma 2D\n",
    "hist, xedges, yedges = np.histogram2d(ref_data_array, inf_data_array, bins=50, density=True)\n",
    "\n",
    "# Coordenadas de las esquinas de los rectángulos\n",
    "xpos, ypos = np.meshgrid(xedges[:-1], yedges[:-1], indexing=\"ij\")\n",
    "xpos = xpos.ravel()\n",
    "ypos = ypos.ravel()\n",
    "zpos = 0\n",
    "\n",
    "# Tamaños de los rectángulos\n",
    "dx = dy = 0.04 * np.ones_like(zpos)\n",
    "#dx = dy = 0.0001 * np.ones_like(zpos)\n",
    "dz = hist.ravel()\n",
    "\n",
    "# Filtrar los datos donde la densidad es cero\n",
    "non_zero_indices = dz != 0\n",
    "xpos = xpos[non_zero_indices]\n",
    "ypos = ypos[non_zero_indices]\n",
    "dz = dz[non_zero_indices]\n",
    "\n",
    "# Crear una figura y obtener ejes 3D\n",
    "fig = plt.figure(figsize=(10, 8))  # Ajustar el tamaño de la figura\n",
    "ax = fig.add_subplot(111, projection='3d')\n",
    "\n",
    "# Graficar la superficie\n",
    "ax.plot_trisurf(xpos, ypos, dz, cmap='Blues')\n",
    "\n",
    "# Establecer los límites de los ejes x y y\n",
    "ax.set_xlim(0, x_limit)\n",
    "ax.set_ylim(0, y_limit)\n",
    "\n",
    "# Agregar etiquetas y título\n",
    "ax.set_xlabel('DFT modules (eV/$\\AA$)')\n",
    "ax.set_ylabel('TorchMD-net modules (eV/$\\AA$)')\n",
    "ax.set_zlabel('Density')\n",
    "ax.set_title('Reference modules vs Inferred modules (Oxygen) (Surface)')\n",
    "\n",
    "# Mostrar la gráfica\n",
    "plt.savefig(\"graficas-inferencias/output-graficas/figura-16.png\")\n",
    "plt.show()"
   ]
  },
  {
   "cell_type": "code",
   "execution_count": null,
   "id": "9768cf96-2588-4baf-abef-f86ed7289150",
   "metadata": {},
   "outputs": [],
   "source": [
    "# Ruta del archivo para los módulos\n",
    "MODULE_O_PATH = 'graficas-inferencias/input-graficas/modules-test-8.dat'\n",
    "\n",
    "# Cargar los datos con Pandas\n",
    "data = pd.read_csv(MODULE_O_PATH, header=None, delim_whitespace=True)\n",
    "\n",
    "# Dividir los datos en dos columnas\n",
    "ref_data_array = data.iloc[:, 0]  # Primera columna\n",
    "inf_data_array = data.iloc[:, 1]   # Segunda columna\n",
    "\n",
    "# Graficar histogramas\n",
    "plt.hist(ref_data_array, bins=100, edgecolor='red', alpha=0.5, label='Reference', align='mid', color='red',density=\"True\")\n",
    "plt.hist(inf_data_array, bins=100, edgecolor='green', alpha=0.5, label='Inference', align='mid', color='green',density=\"True\")\n",
    "\n",
    "# Agregar etiquetas y título\n",
    "plt.xlabel('Modules (eV/$\\AA$)')\n",
    "plt.ylabel('Density')\n",
    "plt.title('Distribution of the module of reference and inferred forces (Oxygen)')\n",
    "\n",
    "# Mostrar leyenda\n",
    "plt.legend()\n",
    "\n",
    "# Mostrar el histograma\n",
    "plt.savefig(\"graficas-inferencias/output-graficas/figura-17.png\")\n",
    "plt.show()"
   ]
  },
  {
   "cell_type": "markdown",
   "id": "4f987c90-fc5e-40fc-a347-c02df88bba75",
   "metadata": {},
   "source": [
    "#### Continuos"
   ]
  },
  {
   "cell_type": "markdown",
   "id": "4f3ee597-5cbe-4847-a5dd-7efcbead599e",
   "metadata": {},
   "source": [
    "```python\n",
    "# Ruta del archivo para los módulos\n",
    "MODULE_Al_PATH = 'graficas-inferencias/input-graficas/modules-test-8.dat'\n",
    "\n",
    "# Cargar los datos con NumPy\n",
    "data = np.loadtxt(MODULE_Al_PATH)\n",
    "\n",
    "# Dividir los datos en dos columnas\n",
    "ref_data_array = data[:, 0]  # Primera columna\n",
    "inf_data_array = data[:, 1]  # Segunda columna\n",
    "\n",
    "# Calcular la densidad de puntos\n",
    "xy = np.vstack([ref_data_array, inf_data_array])\n",
    "z = gaussian_kde(xy)(xy)\n",
    "\n",
    "# Ordenar los puntos por densidad, para que los puntos más densos se tracen al final\n",
    "idx = z.argsort()\n",
    "xy_sorted = xy[:, idx]\n",
    "z_sorted = z[idx]\n",
    "\n",
    "# Asignar los valores ordenados de x e y\n",
    "x, y = xy_sorted"
   ]
  },
  {
   "cell_type": "markdown",
   "id": "01a5cfc2-42a1-4bc1-ac3f-bb03a094dd9f",
   "metadata": {},
   "source": [
    "```python\n",
    "# Crear una figura\n",
    "#plt.figure(figsize=(10, 8))  # Ajustar el tamaño de la figura\n",
    "\n",
    "# Graficar los puntos en 2D\n",
    "plt.scatter(x, y, c=z_sorted, cmap='Blues', s=25)\n",
    "\n",
    "# Establecer etiquetas y título\n",
    "plt.xlabel('DFT modules (Ha/Bohr)')\n",
    "plt.ylabel('TorchMD-net modules (Ha/Bohr)')\n",
    "plt.title('Reference modules vs Inferred modules (Oxygen)')\n",
    "plt.xlim(0, x_limit)\n",
    "plt.ylim(0, y_limit)\n",
    "\n",
    "# Mostrar la gráfica\n",
    "plt.colorbar(label='Density')\n",
    "plt.show()"
   ]
  },
  {
   "cell_type": "markdown",
   "id": "3db1a990-1a72-477f-84aa-5818cd22e685",
   "metadata": {},
   "source": [
    "```python\n",
    "# Ruta del archivo para los módulos\n",
    "MODULE_Al_PATH = 'graficas-inferencias/input-graficas/modules-test-8.dat'\n",
    "\n",
    "# Cargar los datos con NumPy\n",
    "data = np.loadtxt(MODULE_Al_PATH)\n",
    "\n",
    "# Dividir los datos en dos columnas\n",
    "ref_data_array = data[:, 0]  # Primera columna\n",
    "inf_data_array = data[:, 1]  # Segunda columna\n",
    "\n",
    "# Calcular la densidad de puntos\n",
    "xy = np.vstack([ref_data_array, inf_data_array])\n",
    "z = gaussian_kde(xy)(xy)\n",
    "\n",
    "# Ordenar los puntos por densidad, para que los puntos más densos se tracen al final\n",
    "idx = z.argsort()\n",
    "xy_sorted = xy[:, idx]\n",
    "z_sorted = z[idx]\n",
    "\n",
    "# Asignar los valores ordenados de x e y\n",
    "x, y = xy_sorted"
   ]
  },
  {
   "cell_type": "markdown",
   "id": "7d88a74a-a478-44d1-a196-3b43cc02dd1b",
   "metadata": {},
   "source": [
    "```python\n",
    "# Crear una figura y obtener ejes 3D\n",
    "fig = plt.figure(figsize=(10, 8))  # Ajustar el tamaño de la figura\n",
    "ax = fig.add_subplot(111, projection='3d')\n",
    "\n",
    "# Graficar los puntos en 3D\n",
    "ax.scatter(x, y, z_sorted, c=z_sorted, cmap='Blues', s=25)\n",
    "\n",
    "# Establecer los límites de los ejes x y y\n",
    "ax.set_xlim(0, x_limit)\n",
    "ax.set_ylim(0, y_limit)\n",
    "\n",
    "# Establecer etiquetas y título\n",
    "ax.set_xlabel('DFT modules (Ha/Bohr)')\n",
    "ax.set_ylabel('TorchMD-net modules (Ha/Bohr)')\n",
    "ax.set_zlabel('Density')\n",
    "ax.set_title('Reference modules vs Inferred modules (Oxygen)')\n",
    "\n",
    "# Mostrar la gráfica\n",
    "plt.show()"
   ]
  },
  {
   "cell_type": "markdown",
   "id": "fdac3695-0a0b-4ecb-acc3-ba261a9e2a7b",
   "metadata": {},
   "source": [
    "### Aluminium"
   ]
  },
  {
   "cell_type": "code",
   "execution_count": null,
   "id": "a954fe0f-f251-4669-acdd-3d9bdc279fce",
   "metadata": {},
   "outputs": [],
   "source": [
    "x_limit=12\n",
    "y_limit=12"
   ]
  },
  {
   "cell_type": "code",
   "execution_count": null,
   "id": "aa73569b-9dc1-4ae4-851e-e6d2573f9953",
   "metadata": {},
   "outputs": [],
   "source": [
    "# Ruta del archivo para los módulos\n",
    "MODULE_Al_PATH = 'graficas-inferencias/input-graficas/modules-test-13.dat'\n",
    "\n",
    "# Cargar los datos con NumPy\n",
    "module_al_data = np.loadtxt(MODULE_Al_PATH)\n",
    "\n",
    "# Graficar\n",
    "plt.scatter(module_al_data[:, 0], module_al_data[:, 1], s=25)\n",
    "plt.xlabel('DFT modules (eV/$\\AA$)')\n",
    "plt.ylabel('TorchMD-net modules (eV/$\\AA$)')\n",
    "plt.title('Reference modules vs Inferred modules (Aluminium)')\n",
    "plt.xlim(0, x_limit)\n",
    "plt.ylim(0, y_limit)\n",
    "plt.savefig(\"graficas-inferencias/output-graficas/figura-18.png\")\n",
    "plt.show()"
   ]
  },
  {
   "cell_type": "markdown",
   "id": "8c8026ec-9304-4d1e-bbbe-83d95b3acbdc",
   "metadata": {},
   "source": [
    "#### Discretos"
   ]
  },
  {
   "cell_type": "code",
   "execution_count": null,
   "id": "79310331-4e67-4f3c-babf-e5ab3ea07991",
   "metadata": {},
   "outputs": [],
   "source": [
    "# Ruta del archivo para los módulos\n",
    "MODULE_Al_PATH = 'graficas-inferencias/input-graficas/modules-test-13.dat'\n",
    "\n",
    "# Cargar los datos con NumPy\n",
    "module_al_data = np.loadtxt(MODULE_Al_PATH)\n",
    "\n",
    "# Cargar los datos con NumPy\n",
    "ref_data_array = module_al_data[:, 0]\n",
    "inf_data_array = module_al_data[:, 1]\n",
    "\n",
    "# Calcular el histograma 2D\n",
    "hist, xedges, yedges = np.histogram2d(ref_data_array, inf_data_array, bins=50, density=True)\n",
    "\n",
    "# Filtrar los datos donde la densidad es cero\n",
    "non_zero_indices = hist != 0\n",
    "hist_filtered = np.where(non_zero_indices, hist, np.nan)\n",
    "\n",
    "# Crear la gráfica\n",
    "plt.imshow(hist_filtered.T, extent=[xedges[0], xedges[-1], yedges[0], yedges[-1]], cmap='Blues', origin='lower', aspect='auto')\n",
    "plt.colorbar(label='Density')\n",
    "plt.xlabel('DFT modules (eV/$\\AA$)')\n",
    "plt.ylabel('TorchMD-net modules (eV/$\\AA$)')\n",
    "plt.title('Reference modules vs Inferred modules (Aluminium)')\n",
    "plt.xlim(0, x_limit)\n",
    "plt.ylim(0, y_limit)\n",
    "\n",
    "# Mostrar la gráfica\n",
    "plt.savefig(\"graficas-inferencias/output-graficas/figura-19.png\")\n",
    "plt.show()"
   ]
  },
  {
   "cell_type": "code",
   "execution_count": null,
   "id": "d7c81ec0-f811-4667-97ea-22b3f06ccdd2",
   "metadata": {},
   "outputs": [],
   "source": [
    "# Ruta del archivo para los módulos\n",
    "MODULE_Al_PATH = 'graficas-inferencias/input-graficas/modules-test-13.dat'\n",
    "\n",
    "# Cargar los datos con NumPy\n",
    "module_al_data = np.loadtxt(MODULE_Al_PATH)\n",
    "\n",
    "# Cargar los datos con NumPy\n",
    "ref_data_array = module_al_data[:, 0]\n",
    "inf_data_array = module_al_data[:, 1]\n",
    "\n",
    "# Calcular el histograma 2D\n",
    "hist, xedges, yedges = np.histogram2d(ref_data_array, inf_data_array, bins=50, density=True)\n",
    "\n",
    "# Coordenadas de las esquinas de los rectángulos\n",
    "xpos, ypos = np.meshgrid(xedges[:-1], yedges[:-1], indexing=\"ij\")\n",
    "xpos = xpos.ravel()\n",
    "ypos = ypos.ravel()\n",
    "zpos = 0\n",
    "\n",
    "# Tamaños de los rectángulos\n",
    "dx = dy = 0.04 * np.ones_like(zpos)\n",
    "#dx = dy = 0.0001 * np.ones_like(zpos)\n",
    "dz = hist.ravel()\n",
    "\n",
    "# Filtrar los datos donde la densidad es cero\n",
    "non_zero_indices = dz != 0\n",
    "xpos = xpos[non_zero_indices]\n",
    "ypos = ypos[non_zero_indices]\n",
    "dz = dz[non_zero_indices]\n",
    "\n",
    "# Crear una figura y obtener ejes 3D\n",
    "fig = plt.figure(figsize=(10, 8))  # Ajustar el tamaño de la figura\n",
    "ax = fig.add_subplot(111, projection='3d')\n",
    "\n",
    "# Graficar la superficie\n",
    "ax.plot_trisurf(xpos, ypos, dz, cmap='Blues')\n",
    "\n",
    "# Establecer los límites de los ejes x y y\n",
    "ax.set_xlim(0, x_limit)\n",
    "ax.set_ylim(0, y_limit)\n",
    "\n",
    "# Agregar etiquetas y título\n",
    "ax.set_xlabel('DFT modules (eV/$\\AA$)')\n",
    "ax.set_ylabel('TorchMD-net modules (eV/$\\AA$)')\n",
    "ax.set_zlabel('Density')\n",
    "ax.set_title('Reference modules vs Inferred modules (Aluminium) (Surface)')\n",
    "\n",
    "# Mostrar la gráfica\n",
    "plt.savefig(\"graficas-inferencias/output-graficas/figura-20.png\")\n",
    "plt.show()"
   ]
  },
  {
   "cell_type": "code",
   "execution_count": null,
   "id": "09db10b1-1b39-4cc8-a52f-6705ae92b28b",
   "metadata": {},
   "outputs": [],
   "source": [
    "# Ruta del archivo para los módulos\n",
    "MODULE_Al_PATH = 'graficas-inferencias/input-graficas/modules-test-13.dat'\n",
    "\n",
    "# Cargar los datos con Pandas\n",
    "data = pd.read_csv(MODULE_Al_PATH, header=None, delim_whitespace=True)\n",
    "\n",
    "# Dividir los datos en dos columnas\n",
    "ref_data_array = data.iloc[:, 0]  # Primera columna\n",
    "inf_data_array = data.iloc[:, 1]  # Segunda columna\n",
    "\n",
    "# Graficar histogramas\n",
    "plt.hist(ref_data_array, bins=100, edgecolor='red', alpha=0.5, label='Reference', align='mid', color='red',density=\"True\")\n",
    "plt.hist(inf_data_array, bins=100, edgecolor='green', alpha=0.5, label='Inference', align='mid', color='green',density=\"True\")\n",
    "\n",
    "# Agregar etiquetas y título\n",
    "plt.xlabel('Modules (eV/$\\AA$)')\n",
    "plt.ylabel('Density')\n",
    "plt.title('Distribution of the module of reference and inferred forces (Aluminium)')\n",
    "\n",
    "# Mostrar leyenda\n",
    "plt.legend()\n",
    "\n",
    "# Mostrar el histograma\n",
    "plt.savefig(\"graficas-inferencias/output-graficas/figura-21.png\")\n",
    "plt.show()"
   ]
  },
  {
   "cell_type": "markdown",
   "id": "9e72b43e-6f3a-40a6-9ecd-5885467c4eda",
   "metadata": {},
   "source": [
    "#### Continuos"
   ]
  },
  {
   "cell_type": "markdown",
   "id": "a9c2575c-e625-4c81-baf1-9b106bc1c182",
   "metadata": {},
   "source": [
    "```python\n",
    "# Ruta del archivo para los módulos\n",
    "MODULE_Al_PATH = 'graficas-inferencias/input-graficas/modules-test-13.dat'\n",
    "\n",
    "# Cargar los datos con NumPy\n",
    "data = np.loadtxt(MODULE_Al_PATH)\n",
    "\n",
    "# Dividir los datos en dos columnas\n",
    "ref_data_array = data[:, 0]  # Primera columna\n",
    "inf_data_array = data[:, 1]  # Segunda columna\n",
    "\n",
    "# Calcular la densidad de puntos\n",
    "xy = np.vstack([ref_data_array, inf_data_array])\n",
    "z = gaussian_kde(xy)(xy)\n",
    "\n",
    "# Ordenar los puntos por densidad, para que los puntos más densos se tracen al final\n",
    "idx = z.argsort()\n",
    "xy_sorted = xy[:, idx]\n",
    "z_sorted = z[idx]\n",
    "\n",
    "# Asignar los valores ordenados de x e y\n",
    "x, y = xy_sorted"
   ]
  },
  {
   "cell_type": "markdown",
   "id": "65663690-78ef-4809-b57d-451c39b68609",
   "metadata": {},
   "source": [
    "```python\n",
    "# Crear una figura\n",
    "#plt.figure(figsize=(10, 8))  # Ajustar el tamaño de la figura\n",
    "\n",
    "# Graficar los puntos en 2D\n",
    "plt.scatter(x, y, c=z_sorted, cmap='Blues', s=25)\n",
    "\n",
    "# Establecer etiquetas y título\n",
    "plt.xlabel('DFT modules (Ha/Bohr)')\n",
    "plt.ylabel('TorchMD-net modules (Ha/Bohr)')\n",
    "plt.title('Reference modules vs Inferred modules (Aluminium)')\n",
    "plt.xlim(0, x_limit)\n",
    "plt.ylim(0, y_limit)\n",
    "\n",
    "# Mostrar la gráfica\n",
    "plt.colorbar(label='Density')\n",
    "plt.show()"
   ]
  },
  {
   "cell_type": "markdown",
   "id": "bf09deca-0418-40ce-b95d-442d4ee99b0e",
   "metadata": {},
   "source": [
    "```python\n",
    "# Ruta del archivo para los módulos\n",
    "MODULE_Al_PATH = 'graficas-inferencias/input-graficas/modules-test-13.dat'\n",
    "\n",
    "# Cargar los datos con NumPy\n",
    "data = np.loadtxt(MODULE_Al_PATH)\n",
    "\n",
    "# Dividir los datos en dos columnas\n",
    "ref_data_array = data[:, 0]  # Primera columna\n",
    "inf_data_array = data[:, 1]  # Segunda columna\n",
    "\n",
    "# Calcular la densidad de puntos\n",
    "xy = np.vstack([ref_data_array, inf_data_array])\n",
    "z = gaussian_kde(xy)(xy)\n",
    "\n",
    "# Ordenar los puntos por densidad, para que los puntos más densos se tracen al final\n",
    "idx = z.argsort()\n",
    "xy_sorted = xy[:, idx]\n",
    "z_sorted = z[idx]\n",
    "\n",
    "# Asignar los valores ordenados de x e y\n",
    "x, y = xy_sorted"
   ]
  },
  {
   "cell_type": "markdown",
   "id": "550d9324-9200-4779-ad7f-0e575f916d78",
   "metadata": {},
   "source": [
    "```python\n",
    "# Crear una figura y obtener ejes 3D\n",
    "fig = plt.figure(figsize=(10, 8))  # Ajustar el tamaño de la figura\n",
    "ax = fig.add_subplot(111, projection='3d')\n",
    "\n",
    "# Graficar los puntos en 3D\n",
    "ax.scatter(x, y, z_sorted, c=z_sorted, cmap='Blues', s=25)\n",
    "\n",
    "# Establecer los límites de los ejes x y y\n",
    "ax.set_xlim(0, x_limit)\n",
    "ax.set_ylim(0, y_limit)\n",
    "\n",
    "# Establecer etiquetas y título\n",
    "ax.set_xlabel('DFT modules (Ha/Bohr)')\n",
    "ax.set_ylabel('TorchMD-net modules (Ha/Bohr)')\n",
    "ax.set_zlabel('Density')\n",
    "ax.set_title('Reference modules vs Inferred modules (Aluminium)')\n",
    "\n",
    "# Mostrar la gráfica\n",
    "plt.show()"
   ]
  }
 ],
 "metadata": {
  "kernelspec": {
   "display_name": "torchmd-net",
   "language": "python",
   "name": "torchmd-net"
  },
  "language_info": {
   "codemirror_mode": {
    "name": "ipython",
    "version": 3
   },
   "file_extension": ".py",
   "mimetype": "text/x-python",
   "name": "python",
   "nbconvert_exporter": "python",
   "pygments_lexer": "ipython3",
   "version": "3.9.15"
  }
 },
 "nbformat": 4,
 "nbformat_minor": 5
}
